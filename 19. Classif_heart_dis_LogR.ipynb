{
 "cells": [
  {
   "cell_type": "markdown",
   "metadata": {},
   "source": [
    "# Classifying Heart Disease\n",
    "\n",
    "With this project we'll attempt to classify if an individual has heart disease using the Heart Disease Dataset from UCI. This dataset originates from the Clevland Clinic, and it's columns are broken down below: \n",
    "\n",
    "`id`: Unique id for each patient\n",
    "\n",
    "`age`: Age of the patient in years\n",
    "\n",
    "`sex`: Male/Female\n",
    "\n",
    "`cp`: chest pain type \n",
    "* 1 = typical angina \n",
    "* 2 = atypical angina \n",
    "* 3 = non-anginal \n",
    "* 4 = asymptomatic\n",
    "\n",
    "`trestbps`: resting blood pressure (in mm Hg on admission to the hospital)\n",
    "\n",
    "`chol`: serum cholesterol in mg/dl\n",
    "\n",
    "`fbs`: if fasting blood sugar > 120 mg/dl\n",
    "\n",
    "`restecg`: resting electrocardiographic results \n",
    "* 0 = normal\n",
    "* 1 = having ST-T wave abnormality (T wave inversions and/or ST elevation or depression of > 0.05 mV)\n",
    "* 2 = showing probable or definite left ventricular hypertrophy by Estes' criteria\n",
    "\n",
    "`thalach`: maximum heart rate achieved\n",
    "\n",
    "`exang`: exercise-induced angina (True/ False)\n",
    "\n",
    "`oldpeak`: ST depression induced by exercise relative to rest\n",
    "\n",
    "`slope`: the slope of the peak exercise ST segment \n",
    "* 1 = upsloping \n",
    "* 2 = flat\n",
    "* 3 = downsloping\n",
    "\n",
    "`ca`: number of major vessels (0-3) colored by fluoroscopy\n",
    "\n",
    "`thal`: Thallium Stress Test\n",
    "* 3 = normal \n",
    "* 6 = fixed defect\n",
    "* 7 = reversible defect\n",
    "\n",
    "`present`: diagnosis of heart disease (the predicted attribute) \n"
   ]
  },
  {
   "cell_type": "markdown",
   "metadata": {},
   "source": [
    "## Overview"
   ]
  },
  {
   "cell_type": "code",
   "execution_count": 2,
   "metadata": {},
   "outputs": [],
   "source": [
    "import pandas as pd \n",
    "import numpy as np\n",
    "import matplotlib.pyplot as plt\n",
    "import seaborn as sns\n",
    "from sklearn.model_selection import train_test_split\n",
    "from sklearn.linear_model import LogisticRegression\n",
    "\n",
    "#import dataset\n",
    "hd = pd.read_csv('heart_disease.csv')"
   ]
  },
  {
   "cell_type": "code",
   "execution_count": 3,
   "metadata": {},
   "outputs": [
    {
     "data": {
      "text/html": [
       "<div>\n",
       "<style scoped>\n",
       "    .dataframe tbody tr th:only-of-type {\n",
       "        vertical-align: middle;\n",
       "    }\n",
       "\n",
       "    .dataframe tbody tr th {\n",
       "        vertical-align: top;\n",
       "    }\n",
       "\n",
       "    .dataframe thead th {\n",
       "        text-align: right;\n",
       "    }\n",
       "</style>\n",
       "<table border=\"1\" class=\"dataframe\">\n",
       "  <thead>\n",
       "    <tr style=\"text-align: right;\">\n",
       "      <th></th>\n",
       "      <th>Unnamed: 0</th>\n",
       "      <th>age</th>\n",
       "      <th>sex</th>\n",
       "      <th>cp</th>\n",
       "      <th>trestbps</th>\n",
       "      <th>chol</th>\n",
       "      <th>fbs</th>\n",
       "      <th>restecg</th>\n",
       "      <th>thalach</th>\n",
       "      <th>exang</th>\n",
       "      <th>oldpeak</th>\n",
       "      <th>slope</th>\n",
       "      <th>ca</th>\n",
       "      <th>thal</th>\n",
       "      <th>present</th>\n",
       "    </tr>\n",
       "  </thead>\n",
       "  <tbody>\n",
       "    <tr>\n",
       "      <th>0</th>\n",
       "      <td>1</td>\n",
       "      <td>63</td>\n",
       "      <td>1</td>\n",
       "      <td>1</td>\n",
       "      <td>145</td>\n",
       "      <td>233</td>\n",
       "      <td>1</td>\n",
       "      <td>2</td>\n",
       "      <td>150</td>\n",
       "      <td>0</td>\n",
       "      <td>2.3</td>\n",
       "      <td>3</td>\n",
       "      <td>0.0</td>\n",
       "      <td>6.0</td>\n",
       "      <td>0</td>\n",
       "    </tr>\n",
       "    <tr>\n",
       "      <th>1</th>\n",
       "      <td>2</td>\n",
       "      <td>67</td>\n",
       "      <td>1</td>\n",
       "      <td>4</td>\n",
       "      <td>160</td>\n",
       "      <td>286</td>\n",
       "      <td>0</td>\n",
       "      <td>2</td>\n",
       "      <td>108</td>\n",
       "      <td>1</td>\n",
       "      <td>1.5</td>\n",
       "      <td>2</td>\n",
       "      <td>3.0</td>\n",
       "      <td>3.0</td>\n",
       "      <td>1</td>\n",
       "    </tr>\n",
       "    <tr>\n",
       "      <th>2</th>\n",
       "      <td>3</td>\n",
       "      <td>67</td>\n",
       "      <td>1</td>\n",
       "      <td>4</td>\n",
       "      <td>120</td>\n",
       "      <td>229</td>\n",
       "      <td>0</td>\n",
       "      <td>2</td>\n",
       "      <td>129</td>\n",
       "      <td>1</td>\n",
       "      <td>2.6</td>\n",
       "      <td>2</td>\n",
       "      <td>2.0</td>\n",
       "      <td>7.0</td>\n",
       "      <td>1</td>\n",
       "    </tr>\n",
       "    <tr>\n",
       "      <th>3</th>\n",
       "      <td>4</td>\n",
       "      <td>37</td>\n",
       "      <td>1</td>\n",
       "      <td>3</td>\n",
       "      <td>130</td>\n",
       "      <td>250</td>\n",
       "      <td>0</td>\n",
       "      <td>0</td>\n",
       "      <td>187</td>\n",
       "      <td>0</td>\n",
       "      <td>3.5</td>\n",
       "      <td>3</td>\n",
       "      <td>0.0</td>\n",
       "      <td>3.0</td>\n",
       "      <td>0</td>\n",
       "    </tr>\n",
       "    <tr>\n",
       "      <th>4</th>\n",
       "      <td>5</td>\n",
       "      <td>41</td>\n",
       "      <td>0</td>\n",
       "      <td>2</td>\n",
       "      <td>130</td>\n",
       "      <td>204</td>\n",
       "      <td>0</td>\n",
       "      <td>2</td>\n",
       "      <td>172</td>\n",
       "      <td>0</td>\n",
       "      <td>1.4</td>\n",
       "      <td>1</td>\n",
       "      <td>0.0</td>\n",
       "      <td>3.0</td>\n",
       "      <td>0</td>\n",
       "    </tr>\n",
       "  </tbody>\n",
       "</table>\n",
       "</div>"
      ],
      "text/plain": [
       "   Unnamed: 0  age  sex  cp  trestbps  chol  fbs  restecg  thalach  exang  \\\n",
       "0           1   63    1   1       145   233    1        2      150      0   \n",
       "1           2   67    1   4       160   286    0        2      108      1   \n",
       "2           3   67    1   4       120   229    0        2      129      1   \n",
       "3           4   37    1   3       130   250    0        0      187      0   \n",
       "4           5   41    0   2       130   204    0        2      172      0   \n",
       "\n",
       "   oldpeak  slope   ca thal  present  \n",
       "0      2.3      3  0.0  6.0        0  \n",
       "1      1.5      2  3.0  3.0        1  \n",
       "2      2.6      2  2.0  7.0        1  \n",
       "3      3.5      3  0.0  3.0        0  \n",
       "4      1.4      1  0.0  3.0        0  "
      ]
     },
     "execution_count": 3,
     "metadata": {},
     "output_type": "execute_result"
    }
   ],
   "source": [
    "hd.head()"
   ]
  },
  {
   "cell_type": "markdown",
   "metadata": {},
   "source": [
    "Based on the column descripton, it should be obvious that some of these features need to be converted into dummies if they are to be used in our model. Namely those columns which represent categorical variables: `cp`, `restecg`, `slope`, and `thal`. "
   ]
  },
  {
   "cell_type": "code",
   "execution_count": 4,
   "metadata": {},
   "outputs": [
    {
     "name": "stdout",
     "output_type": "stream",
     "text": [
      "<class 'pandas.core.frame.DataFrame'>\n",
      "RangeIndex: 303 entries, 0 to 302\n",
      "Data columns (total 15 columns):\n",
      " #   Column      Non-Null Count  Dtype  \n",
      "---  ------      --------------  -----  \n",
      " 0   Unnamed: 0  303 non-null    int64  \n",
      " 1   age         303 non-null    int64  \n",
      " 2   sex         303 non-null    int64  \n",
      " 3   cp          303 non-null    int64  \n",
      " 4   trestbps    303 non-null    int64  \n",
      " 5   chol        303 non-null    int64  \n",
      " 6   fbs         303 non-null    int64  \n",
      " 7   restecg     303 non-null    int64  \n",
      " 8   thalach     303 non-null    int64  \n",
      " 9   exang       303 non-null    int64  \n",
      " 10  oldpeak     303 non-null    float64\n",
      " 11  slope       303 non-null    int64  \n",
      " 12  ca          303 non-null    object \n",
      " 13  thal        303 non-null    object \n",
      " 14  present     303 non-null    int64  \n",
      "dtypes: float64(1), int64(12), object(2)\n",
      "memory usage: 35.6+ KB\n"
     ]
    }
   ],
   "source": [
    "hd.info()"
   ]
  },
  {
   "cell_type": "code",
   "execution_count": 5,
   "metadata": {},
   "outputs": [
    {
     "data": {
      "text/plain": [
       "ca   thal\n",
       "0.0  3.0     115\n",
       "     7.0      51\n",
       "1.0  7.0      32\n",
       "     3.0      29\n",
       "2.0  7.0      20\n",
       "     3.0      14\n",
       "3.0  7.0      12\n",
       "0.0  6.0       8\n",
       "3.0  3.0       6\n",
       "1.0  6.0       4\n",
       "2.0  6.0       4\n",
       "0.0  ?         2\n",
       "3.0  6.0       2\n",
       "?    3.0       2\n",
       "     7.0       2\n",
       "dtype: int64"
      ]
     },
     "execution_count": 5,
     "metadata": {},
     "output_type": "execute_result"
    }
   ],
   "source": [
    "hd[['ca','thal']].value_counts()\n",
    "#there are some question marks turning these columns into object dtypes"
   ]
  },
  {
   "cell_type": "code",
   "execution_count": 6,
   "metadata": {},
   "outputs": [],
   "source": [
    "#need to fix ?'s -- just going to replace them with 0.0 and 3.0 respectively \n",
    "\n",
    "hd['ca'] = hd['ca'].replace('?', 0.0)\n",
    "hd['thal'] = hd['thal'].replace('?', 3.0)"
   ]
  },
  {
   "cell_type": "code",
   "execution_count": 7,
   "metadata": {},
   "outputs": [
    {
     "data": {
      "text/plain": [
       "ca   thal\n",
       "0.0  3.0     115\n",
       "     7.0      51\n",
       "1.0  7.0      32\n",
       "     3.0      29\n",
       "2.0  7.0      20\n",
       "     3.0      14\n",
       "3.0  7.0      12\n",
       "0.0  6.0       8\n",
       "3.0  3.0       6\n",
       "1.0  6.0       4\n",
       "2.0  6.0       4\n",
       "0.0  3.0       2\n",
       "     7.0       2\n",
       "     3.0       2\n",
       "3.0  6.0       2\n",
       "dtype: int64"
      ]
     },
     "execution_count": 7,
     "metadata": {},
     "output_type": "execute_result"
    }
   ],
   "source": [
    "hd[['ca','thal']].value_counts()"
   ]
  },
  {
   "cell_type": "code",
   "execution_count": 8,
   "metadata": {},
   "outputs": [
    {
     "name": "stdout",
     "output_type": "stream",
     "text": [
      "<class 'pandas.core.frame.DataFrame'>\n",
      "RangeIndex: 303 entries, 0 to 302\n",
      "Data columns (total 2 columns):\n",
      " #   Column  Non-Null Count  Dtype\n",
      "---  ------  --------------  -----\n",
      " 0   ca      303 non-null    int64\n",
      " 1   thal    303 non-null    int64\n",
      "dtypes: int64(2)\n",
      "memory usage: 4.9 KB\n"
     ]
    }
   ],
   "source": [
    "#convert cols to int \n",
    "\n",
    "hd['ca'] = hd['ca'].astype(float).astype(int)\n",
    "hd['thal'] = hd['thal'].astype(float).astype(int)\n",
    "\n",
    "hd[['ca','thal']].info()"
   ]
  },
  {
   "cell_type": "markdown",
   "metadata": {},
   "source": [
    "We can now convert the relevant categorical columns into dummy variables for use in the model. "
   ]
  },
  {
   "cell_type": "code",
   "execution_count": 9,
   "metadata": {},
   "outputs": [
    {
     "data": {
      "text/html": [
       "<div>\n",
       "<style scoped>\n",
       "    .dataframe tbody tr th:only-of-type {\n",
       "        vertical-align: middle;\n",
       "    }\n",
       "\n",
       "    .dataframe tbody tr th {\n",
       "        vertical-align: top;\n",
       "    }\n",
       "\n",
       "    .dataframe thead th {\n",
       "        text-align: right;\n",
       "    }\n",
       "</style>\n",
       "<table border=\"1\" class=\"dataframe\">\n",
       "  <thead>\n",
       "    <tr style=\"text-align: right;\">\n",
       "      <th></th>\n",
       "      <th>Unnamed: 0</th>\n",
       "      <th>age</th>\n",
       "      <th>sex</th>\n",
       "      <th>trestbps</th>\n",
       "      <th>chol</th>\n",
       "      <th>fbs</th>\n",
       "      <th>thalach</th>\n",
       "      <th>exang</th>\n",
       "      <th>oldpeak</th>\n",
       "      <th>ca</th>\n",
       "      <th>...</th>\n",
       "      <th>cp_4</th>\n",
       "      <th>restecg_0</th>\n",
       "      <th>restecg_1</th>\n",
       "      <th>restecg_2</th>\n",
       "      <th>slope_1</th>\n",
       "      <th>slope_2</th>\n",
       "      <th>slope_3</th>\n",
       "      <th>thal_3</th>\n",
       "      <th>thal_6</th>\n",
       "      <th>thal_7</th>\n",
       "    </tr>\n",
       "  </thead>\n",
       "  <tbody>\n",
       "    <tr>\n",
       "      <th>0</th>\n",
       "      <td>1</td>\n",
       "      <td>63</td>\n",
       "      <td>1</td>\n",
       "      <td>145</td>\n",
       "      <td>233</td>\n",
       "      <td>1</td>\n",
       "      <td>150</td>\n",
       "      <td>0</td>\n",
       "      <td>2.3</td>\n",
       "      <td>0</td>\n",
       "      <td>...</td>\n",
       "      <td>0</td>\n",
       "      <td>0</td>\n",
       "      <td>0</td>\n",
       "      <td>1</td>\n",
       "      <td>0</td>\n",
       "      <td>0</td>\n",
       "      <td>1</td>\n",
       "      <td>0</td>\n",
       "      <td>1</td>\n",
       "      <td>0</td>\n",
       "    </tr>\n",
       "    <tr>\n",
       "      <th>1</th>\n",
       "      <td>2</td>\n",
       "      <td>67</td>\n",
       "      <td>1</td>\n",
       "      <td>160</td>\n",
       "      <td>286</td>\n",
       "      <td>0</td>\n",
       "      <td>108</td>\n",
       "      <td>1</td>\n",
       "      <td>1.5</td>\n",
       "      <td>3</td>\n",
       "      <td>...</td>\n",
       "      <td>1</td>\n",
       "      <td>0</td>\n",
       "      <td>0</td>\n",
       "      <td>1</td>\n",
       "      <td>0</td>\n",
       "      <td>1</td>\n",
       "      <td>0</td>\n",
       "      <td>1</td>\n",
       "      <td>0</td>\n",
       "      <td>0</td>\n",
       "    </tr>\n",
       "    <tr>\n",
       "      <th>2</th>\n",
       "      <td>3</td>\n",
       "      <td>67</td>\n",
       "      <td>1</td>\n",
       "      <td>120</td>\n",
       "      <td>229</td>\n",
       "      <td>0</td>\n",
       "      <td>129</td>\n",
       "      <td>1</td>\n",
       "      <td>2.6</td>\n",
       "      <td>2</td>\n",
       "      <td>...</td>\n",
       "      <td>1</td>\n",
       "      <td>0</td>\n",
       "      <td>0</td>\n",
       "      <td>1</td>\n",
       "      <td>0</td>\n",
       "      <td>1</td>\n",
       "      <td>0</td>\n",
       "      <td>0</td>\n",
       "      <td>0</td>\n",
       "      <td>1</td>\n",
       "    </tr>\n",
       "    <tr>\n",
       "      <th>3</th>\n",
       "      <td>4</td>\n",
       "      <td>37</td>\n",
       "      <td>1</td>\n",
       "      <td>130</td>\n",
       "      <td>250</td>\n",
       "      <td>0</td>\n",
       "      <td>187</td>\n",
       "      <td>0</td>\n",
       "      <td>3.5</td>\n",
       "      <td>0</td>\n",
       "      <td>...</td>\n",
       "      <td>0</td>\n",
       "      <td>1</td>\n",
       "      <td>0</td>\n",
       "      <td>0</td>\n",
       "      <td>0</td>\n",
       "      <td>0</td>\n",
       "      <td>1</td>\n",
       "      <td>1</td>\n",
       "      <td>0</td>\n",
       "      <td>0</td>\n",
       "    </tr>\n",
       "    <tr>\n",
       "      <th>4</th>\n",
       "      <td>5</td>\n",
       "      <td>41</td>\n",
       "      <td>0</td>\n",
       "      <td>130</td>\n",
       "      <td>204</td>\n",
       "      <td>0</td>\n",
       "      <td>172</td>\n",
       "      <td>0</td>\n",
       "      <td>1.4</td>\n",
       "      <td>0</td>\n",
       "      <td>...</td>\n",
       "      <td>0</td>\n",
       "      <td>0</td>\n",
       "      <td>0</td>\n",
       "      <td>1</td>\n",
       "      <td>1</td>\n",
       "      <td>0</td>\n",
       "      <td>0</td>\n",
       "      <td>1</td>\n",
       "      <td>0</td>\n",
       "      <td>0</td>\n",
       "    </tr>\n",
       "  </tbody>\n",
       "</table>\n",
       "<p>5 rows × 24 columns</p>\n",
       "</div>"
      ],
      "text/plain": [
       "   Unnamed: 0  age  sex  trestbps  chol  fbs  thalach  exang  oldpeak  ca  \\\n",
       "0           1   63    1       145   233    1      150      0      2.3   0   \n",
       "1           2   67    1       160   286    0      108      1      1.5   3   \n",
       "2           3   67    1       120   229    0      129      1      2.6   2   \n",
       "3           4   37    1       130   250    0      187      0      3.5   0   \n",
       "4           5   41    0       130   204    0      172      0      1.4   0   \n",
       "\n",
       "   ...  cp_4  restecg_0  restecg_1  restecg_2  slope_1  slope_2  slope_3  \\\n",
       "0  ...     0          0          0          1        0        0        1   \n",
       "1  ...     1          0          0          1        0        1        0   \n",
       "2  ...     1          0          0          1        0        1        0   \n",
       "3  ...     0          1          0          0        0        0        1   \n",
       "4  ...     0          0          0          1        1        0        0   \n",
       "\n",
       "   thal_3  thal_6  thal_7  \n",
       "0       0       1       0  \n",
       "1       1       0       0  \n",
       "2       0       0       1  \n",
       "3       1       0       0  \n",
       "4       1       0       0  \n",
       "\n",
       "[5 rows x 24 columns]"
      ]
     },
     "execution_count": 9,
     "metadata": {},
     "output_type": "execute_result"
    }
   ],
   "source": [
    "cate = ['cp', 'restecg', 'slope', 'thal']\n",
    "\n",
    "hd = pd.get_dummies(hd, columns=cate)\n",
    "\n",
    "hd.head()"
   ]
  },
  {
   "cell_type": "code",
   "execution_count": 10,
   "metadata": {},
   "outputs": [],
   "source": [
    "#need to drop one of each to satisfy multicollinearity assump \n",
    "\n",
    "hd.drop(['cp_4', 'restecg_2', 'slope_3', 'thal_7'], axis=1, inplace=True)"
   ]
  },
  {
   "cell_type": "markdown",
   "metadata": {},
   "source": [
    "Our data appears to be ready to move on to the next stage... feature selection."
   ]
  },
  {
   "cell_type": "markdown",
   "metadata": {},
   "source": [
    "## Feature Selection\n",
    "\n",
    "We are building a single-class classification model based on the `present` column. Let's have a look at some of the potential predictors, and how they relate to our chosen outcome variable."
   ]
  },
  {
   "cell_type": "code",
   "execution_count": 11,
   "metadata": {},
   "outputs": [
    {
     "data": {
      "text/plain": [
       "<Axes: >"
      ]
     },
     "execution_count": 11,
     "metadata": {},
     "output_type": "execute_result"
    },
    {
     "data": {
      "image/png": "[encoded data removed]",
      "text/plain": [
       "<Figure size 640x480 with 1 Axes>"
      ]
     },
     "metadata": {},
     "output_type": "display_data"
    }
   ],
   "source": [
    "#have a look at outcome \n",
    "\n",
    "hd['present'].hist()"
   ]
  },
  {
   "cell_type": "markdown",
   "metadata": {},
   "source": [
    "The counts for cases and non-cases are similar. \n",
    "\n",
    "Because we don't have many features, we are going to test them all and see which combination works best. To do so we will use Recursive Feature Elimination (RFE), that trains a model on a subset of the features and recursivley considers increasingly smaller sets of features. \n",
    "\n",
    "The above method is a more economical means of selecting features given the presence of both categorical (ordinal and non-ordinal), and quantitative predictors in our data. If instead we wished to take a filter approach, we'd have to calculate multiple statistical tests given the nature of the features \n",
    "\n",
    "Example statistical tests for comparing variables of different kind: \n",
    "\n",
    "* ANOVA: one categorical variable one continuous variable\n",
    "* CHI-Squared: two categorical variables\n",
    "* Pearsons-r: two continuous variables (works with categorical variables that are numerical and ordinal)\n",
    "\n",
    "See: https://medium.com/@rithpansanga/logistic-regression-for-feature-selection-selecting-the-right-features-for-your-model-410ca093c5e0"
   ]
  },
  {
   "cell_type": "markdown",
   "metadata": {
    "tags": []
   },
   "source": [
    "## Building The Model\n",
    "\n",
    "It's now time to construct our model. Before we do, it's worth noting that we are not going to proceed by scaling out data. Like with linear regression, feature scaling is not strictly required as neither algorithm relies on distance (unlike models such as KNN). However, when employing optimization algorithms like gradient descent, feature scaling can increase the time to convergence of the model, ultimatley reducing compute. \n",
    "\n",
    "See:\n",
    "\n",
    "https://forecastegy.com/posts/does-logistic-regression-require-feature-scaling/#:~:text=To%20put%20it%20simply%2C%20feature,applied%20uniformly%20across%20all%20features.\n",
    "\n",
    "https://forecastegy.com/posts/does-linear-regression-require-feature-scaling/#:~:text=In%20linear%20regression%2C%20feature%20scaling,convergence%20and%20improve%20model%20performance."
   ]
  },
  {
   "cell_type": "code",
   "execution_count": 12,
   "metadata": {},
   "outputs": [],
   "source": [
    "#split the data\n",
    "\n",
    "X = hd.drop('present', axis=1)\n",
    "y = hd['present']\n",
    "\n",
    "\n",
    "X_train, X_test, y_train, y_test = train_test_split(X,y, test_size=.2, random_state=734)"
   ]
  },
  {
   "cell_type": "code",
   "execution_count": 13,
   "metadata": {},
   "outputs": [
    {
     "name": "stdout",
     "output_type": "stream",
     "text": [
      "y_train split:\n",
      "0    0.545455\n",
      "1    0.454545\n",
      "Name: present, dtype: float64\n",
      "\n",
      "\n",
      "y_test split:\n",
      "0    0.52459\n",
      "1    0.47541\n",
      "Name: present, dtype: float64\n"
     ]
    }
   ],
   "source": [
    "#check y_train and y_test for cases and non cases\n",
    "\n",
    "print('y_train split:')\n",
    "print(y_train.value_counts(normalize=True))\n",
    "\n",
    "print('\\n')\n",
    "\n",
    "print('y_test split:')\n",
    "print(y_test.value_counts(normalize=True))\n",
    "\n",
    "#looks good"
   ]
  },
  {
   "cell_type": "code",
   "execution_count": 14,
   "metadata": {
    "jupyter": {
     "outputs_hidden": true
    },
    "tags": []
   },
   "outputs": [
    {
     "name": "stderr",
     "output_type": "stream",
     "text": [
      "/home/mistaj/.local/lib/python3.8/site-packages/sklearn/linear_model/_logistic.py:460: ConvergenceWarning: lbfgs failed to converge (status=1):\n",
      "STOP: TOTAL NO. of ITERATIONS REACHED LIMIT.\n",
      "\n",
      "Increase the number of iterations (max_iter) or scale the data as shown in:\n",
      "    https://scikit-learn.org/stable/modules/preprocessing.html\n",
      "Please also refer to the documentation for alternative solver options:\n",
      "    https://scikit-learn.org/stable/modules/linear_model.html#logistic-regression\n",
      "  n_iter_i = _check_optimize_result(\n",
      "/home/mistaj/.local/lib/python3.8/site-packages/sklearn/linear_model/_logistic.py:460: ConvergenceWarning: lbfgs failed to converge (status=1):\n",
      "STOP: TOTAL NO. of ITERATIONS REACHED LIMIT.\n",
      "\n",
      "Increase the number of iterations (max_iter) or scale the data as shown in:\n",
      "    https://scikit-learn.org/stable/modules/preprocessing.html\n",
      "Please also refer to the documentation for alternative solver options:\n",
      "    https://scikit-learn.org/stable/modules/linear_model.html#logistic-regression\n",
      "  n_iter_i = _check_optimize_result(\n",
      "/home/mistaj/.local/lib/python3.8/site-packages/sklearn/linear_model/_logistic.py:460: ConvergenceWarning: lbfgs failed to converge (status=1):\n",
      "STOP: TOTAL NO. of ITERATIONS REACHED LIMIT.\n",
      "\n",
      "Increase the number of iterations (max_iter) or scale the data as shown in:\n",
      "    https://scikit-learn.org/stable/modules/preprocessing.html\n",
      "Please also refer to the documentation for alternative solver options:\n",
      "    https://scikit-learn.org/stable/modules/linear_model.html#logistic-regression\n",
      "  n_iter_i = _check_optimize_result(\n",
      "/home/mistaj/.local/lib/python3.8/site-packages/sklearn/linear_model/_logistic.py:460: ConvergenceWarning: lbfgs failed to converge (status=1):\n",
      "STOP: TOTAL NO. of ITERATIONS REACHED LIMIT.\n",
      "\n",
      "Increase the number of iterations (max_iter) or scale the data as shown in:\n",
      "    https://scikit-learn.org/stable/modules/preprocessing.html\n",
      "Please also refer to the documentation for alternative solver options:\n",
      "    https://scikit-learn.org/stable/modules/linear_model.html#logistic-regression\n",
      "  n_iter_i = _check_optimize_result(\n",
      "/home/mistaj/.local/lib/python3.8/site-packages/sklearn/linear_model/_logistic.py:460: ConvergenceWarning: lbfgs failed to converge (status=1):\n",
      "STOP: TOTAL NO. of ITERATIONS REACHED LIMIT.\n",
      "\n",
      "Increase the number of iterations (max_iter) or scale the data as shown in:\n",
      "    https://scikit-learn.org/stable/modules/preprocessing.html\n",
      "Please also refer to the documentation for alternative solver options:\n",
      "    https://scikit-learn.org/stable/modules/linear_model.html#logistic-regression\n",
      "  n_iter_i = _check_optimize_result(\n"
     ]
    }
   ],
   "source": [
    "from sklearn.feature_selection import RFE\n",
    "\n",
    "#building model \n",
    "model = LogisticRegression()\n",
    "\n",
    "#instantiating object of class RFE so we can feature select \n",
    "rfe = RFE(model, n_features_to_select=5)\n",
    "\n",
    "#fitting to training data\n",
    "rfe.fit(X_train, y_train)\n",
    "\n",
    "#getting top features\n",
    "top_feats = rfe.support_"
   ]
  },
  {
   "cell_type": "code",
   "execution_count": 15,
   "metadata": {},
   "outputs": [
    {
     "name": "stdout",
     "output_type": "stream",
     "text": [
      "Best Features:\n",
      "exang, ca, cp_1, slope_2, thal_3\n"
     ]
    }
   ],
   "source": [
    "#checking top features\n",
    "final_feats = X_train.columns[top_feats].values\n",
    "\n",
    "#printing\n",
    "print(f'Best Features:') \n",
    "print(*final_feats, sep=', ')"
   ]
  },
  {
   "cell_type": "markdown",
   "metadata": {},
   "source": [
    "Using RFE, the 5 most worthwhile features are:\n",
    "\n",
    "`exang`, `ca`, `cp_1`, `slope_2`, `thal_7`\n",
    "\n",
    "Lets build a model and calculate some performance metrics."
   ]
  },
  {
   "cell_type": "code",
   "execution_count": 16,
   "metadata": {},
   "outputs": [
    {
     "name": "stdout",
     "output_type": "stream",
     "text": [
      "Training Accuracy: 0.8347\n"
     ]
    }
   ],
   "source": [
    "#constructing model\n",
    "final_model = LogisticRegression()\n",
    "\n",
    "#constraining training and testing data\n",
    "X_train_final = X_train[final_feats]\n",
    "X_test_final = X_test[final_feats]\n",
    "\n",
    "#fitting to training data\n",
    "final_model.fit(X_train_final, y_train)\n",
    "\n",
    "#getting predictions\n",
    "y_pred_train = final_model.predict(X_train_final)\n",
    "\n",
    "#grabbing metrics\n",
    "\n",
    "train_accuracy = final_model.score(X_train_final, y_train)\n",
    "print(f'Training Accuracy: {train_accuracy.round(4)}')"
   ]
  },
  {
   "cell_type": "code",
   "execution_count": 17,
   "metadata": {},
   "outputs": [
    {
     "name": "stdout",
     "output_type": "stream",
     "text": [
      "Sensitivity: 0.7727\n",
      "Specificity: 0.8864\n"
     ]
    },
    {
     "data": {
      "image/png": "[encoded data removed]",
      "text/plain": [
       "<Figure size 640x480 with 2 Axes>"
      ]
     },
     "metadata": {},
     "output_type": "display_data"
    }
   ],
   "source": [
    "from sklearn.metrics import confusion_matrix\n",
    "from sklearn.metrics import ConfusionMatrixDisplay\n",
    "\n",
    "#creating confusion matrix for training data \n",
    "cm_train = confusion_matrix(y_train, y_pred_train, labels=final_model.classes_) #matrix\n",
    "\n",
    "cm_train_vis = ConfusionMatrixDisplay(cm_train, display_labels=final_model.classes_) #matrix viz\n",
    "cm_train_vis.plot()\n",
    "\n",
    "#calculating sensitivity and specificity from cm_train\n",
    "\n",
    "tp = cm_train[1,1]\n",
    "fn = cm_train[1,0]\n",
    "tn = cm_train[0,0]\n",
    "fp = cm_train[0,1]\n",
    "\n",
    "sens_train = tp / (tp+fn)\n",
    "print(f'Sensitivity: {sens_train.round(4)}')\n",
    "\n",
    "spec_train = tn / (tn+fp)\n",
    "print(f'Specificity: {spec_train.round(4)}')"
   ]
  },
  {
   "cell_type": "markdown",
   "metadata": {},
   "source": [
    "### A Brief Discussion on Binary Classification Metrics\n",
    "\n",
    "<br>\n",
    "\n",
    "Below is a quick run-down of the performance metrics calculated from the training set: \n",
    "\n",
    "\n",
    "**Accuracy**: This is the percentage of the total observations that were correctly predicted\n",
    "\n",
    "**Sensitivity / Recall**: This is the percentage of cases (class = 1) that were correctly predicted\n",
    "\n",
    "$$\n",
    "\\frac{\\text{# correctly predicted cases}}{\\text{# total cases}} = \n",
    "\\frac{\\text{# correctly predicted subjects with heart disease}}{\\text{# subjects in dataset with heart disease}}\n",
    "$$\n",
    "\n",
    "**Specificity**: This is the percentage of non-cases (class = 0) that were correctly predicted\n",
    "\n",
    "$$\n",
    "\\frac{\\text{# correctly predicted non-cases}}{\\text{# total non-cases}} =\n",
    "\\frac{\\text{# correctly predicted subjects without heart disease}}{\\text{# subjects in dataset without heart disease}}\n",
    "$$\n",
    "\n",
    "We can also aknowledge another metric that, for simplicity's sake, we are not calculating, but is still important:\n",
    "\n",
    "**Precision**: This is the number of predicted cases that were correct\n",
    "\n",
    "$$\n",
    "\\frac{\\text{# correctly predicted cases}}{\\text{# total predictions made for cases}} = \n",
    "\\frac{\\text{# correctly predicted subjects with heart disease}}{\\text{# subjects predicted to have heart disease}}\n",
    "$$\n",
    "\n",
    "### Training Evaluation\n",
    "\n",
    "This model appears to perform better for non-cases than it does cases. This is not preferable as it means the model is worse at limiting the amount of false negatives than it is false positives. False negatives represent a situation where a person has been told they don't have heart disease when, in fact, they do. \n",
    "\n",
    "However, it is important to keep in mind that these results are based on our training data, which is overly optimistic. Let's move on to checking the model coefficients. \n"
   ]
  },
  {
   "cell_type": "code",
   "execution_count": 18,
   "metadata": {},
   "outputs": [
    {
     "name": "stdout",
     "output_type": "stream",
     "text": [
      "Log Odds-Ratio:\n",
      "exang : 1.4112\n",
      "ca : 1.0185\n",
      "cp_1 : -0.9017\n",
      "slope_2 : 1.1399\n",
      "thal_3 : -1.7676\n",
      "\n",
      "\n",
      "Odds-Ratio:\n",
      "exang : 4.1007\n",
      "ca : 2.7691\n",
      "cp_1 : 0.4059\n",
      "slope_2 : 3.1264\n",
      "thal_3 : 0.1707\n"
     ]
    }
   ],
   "source": [
    "#get coefs\n",
    "coefs = final_model.coef_\n",
    "\n",
    "#get log odds ratio\n",
    "\n",
    "print('Log Odds-Ratio:')\n",
    "for i in range(5):\n",
    "    \n",
    "    coef = coefs[0][i]\n",
    "    name = final_feats[i]\n",
    "    \n",
    "    \n",
    "    print(name, ':', coef.round(4))\n",
    "\n",
    "    \n",
    "print('\\n')\n",
    "\n",
    "#get odds ratio \n",
    "\n",
    "print('Odds-Ratio:')\n",
    "for i in range(5):\n",
    "    \n",
    "    coef = coefs[0][i]\n",
    "    name = final_feats[i]\n",
    "    \n",
    "    odds_rat = np.exp(coef)\n",
    "    \n",
    "    print(name, ':', odds_rat.round(4))\n",
    "    \n",
    "my_label = 1 \n"
   ]
  },
  {
   "cell_type": "markdown",
   "metadata": {},
   "source": [
    "<br>\n",
    "\n",
    "Looking at the above coefficients it's important to keep in mind that they represent the log odds-ratio for a unit increase in the given predictor, holding all other predictors constant. Consider the below example for the `ca` feature: \n",
    "\n",
    "> For a 1 unit change in `ca`, the log odds ratio changes by 1.02, holding all other predictors constant.  \n",
    "\n",
    "<br>\n",
    "\n",
    "To get the odds ratio, we raise e to each coefficient. First, recall that the odds ratio represents the following:\n",
    "\n",
    "\n",
    "1. let $O_0$ be the odds that our outcome is a non-case (i.e. class = 0) \n",
    "\n",
    "2. let $O_1$ be the odds that our coutcome is a case (i.e. class = 1) \n",
    "\n",
    "<br>\n",
    "\n",
    "Recall that odds represent the ratio of a successful outcome, $EY$, to an unsuccessful outcome:\n",
    "\n",
    "$$\\frac{EY}{1-EY}$$ \n",
    "\n",
    "<br>\n",
    "\n",
    "The odds ratio is simply the fraction of the two odds: \n",
    "\n",
    "$$\n",
    "\\frac{O_0}{O_1}\n",
    "$$\n",
    "\n",
    "<br>\n",
    "\n",
    "Consider two instances: \n",
    "\n",
    "1. The odds ratio is > 1\n",
    "- this means that the odds that the outcome is a case (class = 1) are greater than 1 \n",
    "       \n",
    "2. The odds ratio is < 1 \n",
    "- this means that the odds that the outcome is a non-case (class = 0) are greater than 1\n",
    "\n",
    "<br>\n",
    "\n",
    "Let's now consider the odds ratio for discrete-numerical feature `ca`, or, more correctly, ${e}^{\\beta_{ca}}$:\n",
    "\n",
    "> Changing the predictor by 1 unit changed the odds ratio by ${e}^{\\beta_{ca}}$, or, 2.79, holding all other predictors constant. \n",
    "\n",
    "\n",
    "<br>\n",
    "\n",
    "For a predictor represented by a dummy variable, like `cp_1`, the coefficient takes on a different meaning. Generally speaking, a dummy coefficient represents the odds ratio associated with the given dummy as compared to the control condition (i.e. the omitted dummy). \n",
    "\n",
    "> In the case of `cp_1`, the odds-ratio of .40 indicates the factor of the odds of having heart disease in category `cp_1` v.s. the odds of having heart disease within the reference category, `cp_4`. In other words, the odds ratio of .40 for category `cp_1`, means that having heart disease is less likely, .40 times as high, for this group than the refrence group. \n",
    "\n",
    "`cp` denotes chest pain type, `cp_1` represents one category from the 4 possible levels recorded by the researchers. \n",
    "\n",
    "`cp_1` : typical angina \n",
    "\n",
    "`cp_4` : asymptomatic\n",
    "\n"
   ]
  },
  {
   "cell_type": "markdown",
   "metadata": {},
   "source": [
    "## Assumptions\n",
    "\n",
    "Before we finally evaluate the model, for the sake of completeness, it would be beneficial for us to aknowledge that, in the case of a formal analysis, an assumption check is required to establish the applicability of the underlying model to the data. \n",
    "\n",
    "The assumptions for Logistic Regression are as follows:\n",
    "\n",
    "1. Outcome Structure: Binary logistic regression requires the outcome variable be binary \n",
    "2. Observation Independence: The observations in the data must be independent of each other. \n",
    "3. No Multicollinearity: There should not exist strong correlative relationships among our predictors.\n",
    "4. Linearity of Independent Variables and Log Odds: The independent variables must have a linear relationship with the log odds. \n",
    "5. Large Sample Size"
   ]
  },
  {
   "cell_type": "markdown",
   "metadata": {},
   "source": [
    "## Final Evaluation\n",
    "\n",
    "It's now time to evaluate our model on the testing data. We have a general idea of how the model performs on the training data, but those results are not reflective of reality. "
   ]
  },
  {
   "cell_type": "code",
   "execution_count": 19,
   "metadata": {},
   "outputs": [
    {
     "name": "stdout",
     "output_type": "stream",
     "text": [
      "Accuracy: 0.8197\n"
     ]
    }
   ],
   "source": [
    "#predict on the test set\n",
    "y_pred_test = final_model.predict(X_test_final)\n",
    "\n",
    "#evaluate predictions\n",
    "\n",
    "test_accuracy = final_model.score(X_test_final, y_test)\n",
    "print(f'Accuracy: {test_accuracy.round(4)}')"
   ]
  },
  {
   "cell_type": "code",
   "execution_count": 20,
   "metadata": {},
   "outputs": [
    {
     "name": "stdout",
     "output_type": "stream",
     "text": [
      "Sensitivity: 0.7241\n",
      "Specificity: 0.9062\n"
     ]
    },
    {
     "data": {
      "image/png": "[encoded data removed]",
      "text/plain": [
       "<Figure size 640x480 with 2 Axes>"
      ]
     },
     "metadata": {},
     "output_type": "display_data"
    }
   ],
   "source": [
    "#creating confusion matrix for testing data \n",
    "cm_test = confusion_matrix(y_test, y_pred_test, labels=final_model.classes_) #matrix\n",
    "\n",
    "cm_train_vis = ConfusionMatrixDisplay(cm_test, display_labels=final_model.classes_) #matrix viz\n",
    "cm_train_vis.plot()\n",
    "\n",
    "#calculating sensitivity and specificity from cm_test\n",
    "\n",
    "tp = cm_test[1,1]\n",
    "fn = cm_test[1,0]\n",
    "tn = cm_test[0,0]\n",
    "fp = cm_test[0,1]\n",
    "\n",
    "sens_test = tp / (tp+fn)\n",
    "print(f'Sensitivity: {sens_test.round(4)}')\n",
    "\n",
    "spec_test = tn / (tn+fp)\n",
    "print(f'Specificity: {spec_test.round(4)}')"
   ]
  },
  {
   "cell_type": "markdown",
   "metadata": {},
   "source": [
    "The accuracy and sensitivity are both lower for the testing data as opposed to the training data. However, specificity returned a higher value after being evaluated on the testing data. Consequently, the model's superior predictive performance for non-cases is more evident after being evaluated on the testing data. "
   ]
  },
  {
   "cell_type": "markdown",
   "metadata": {},
   "source": [
    "## Applications\n",
    "\n",
    "Post our final evaluation on the training data, it's now time to consider the utility of this model.\n",
    "\n",
    "Being that the model predicts non-cases better, alot better, than cases, this model has a glaring problem in the form of false negatives. While, after evaluation on the testing data, 90% of non-cases were correctly identified, the same could be said of only 72% of cases. Contextually, this means that not enough people with heart disease are being correctly identified. In other words, there exist too many individuals for which the model states they do not have heart disease when, in actuality, they do. From a clinical perspective, it's pretty obvious to see why this presents a problem -- the affected group is not going to be prioritized for treatment. \n",
    "\n",
    "As such, the fairly decent accuracy figure post-evaluation on the testing data does not tell the whole story. \n",
    "\n",
    "To fix this model we could try a few things: \n",
    "* getting more data\n",
    "* hyperparameter tuning\n",
    "* choosing different features (or perhaps a different method for selecting features)\n",
    "* splitting the training and testing sets up differently"
   ]
  },
  {
   "cell_type": "code",
   "execution_count": null,
   "metadata": {},
   "outputs": [],
   "source": []
  }
 ],
 "metadata": {
  "kernelspec": {
   "display_name": "Python 3 (ipykernel)",
   "language": "python",
   "name": "python3"
  },
  "language_info": {
   "codemirror_mode": {
    "name": "ipython",
    "version": 3
   },
   "file_extension": ".py",
   "mimetype": "text/x-python",
   "name": "python",
   "nbconvert_exporter": "python",
   "pygments_lexer": "ipython3",
   "version": "3.8.10"
  }
 },
 "nbformat": 4,
 "nbformat_minor": 4
}
